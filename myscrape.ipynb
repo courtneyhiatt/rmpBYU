{
 "cells": [
  {
   "cell_type": "code",
   "execution_count": 9,
   "metadata": {},
   "outputs": [],
   "source": [
    "#from ratemyprof_api import RateMyProfApi\n",
    "import pandas as pd\n",
    "\n",
    "import requests\n",
    "import json\n",
    "import math\n",
    "import csv\n",
    "import os\n",
    "\n",
    "from professor import Professor"
   ]
  },
  {
   "cell_type": "code",
   "execution_count": 31,
   "metadata": {},
   "outputs": [],
   "source": [
    "def get_num_of_professors(id):\n",
    "    page = requests.get(\n",
    "        \"http://www.ratemyprofessors.com/filter/professor/?&page=1&filter=teacherlastname_sort_s+asc&query=*%3A*&queryoption=TEACHER&queryBy=schoolId&sid=\"\n",
    "        + str(id)\n",
    "    )  # get request for page\n",
    "    temp_jsonpage = json.loads(page.content)\n",
    "    num_of_prof = (\n",
    "        temp_jsonpage[\"remaining\"] + 20\n",
    "    )  # get the number of professors at William Paterson University\n",
    "    return num_of_prof"
   ]
  },
  {
   "cell_type": "code",
   "execution_count": 44,
   "metadata": {},
   "outputs": [],
   "source": [
    "def scrape_prof(id: str):\n",
    "    professors = dict()\n",
    "    num_of_prof = get_num_of_professors(id)\n",
    "    num_of_pages = math.ceil(num_of_prof / 20)\n",
    "    df = pd.DataFrame()\n",
    "\n",
    "    for i in range(1, num_of_pages + 1):  # the loop insert all professor into list\n",
    "        page = requests.get(\n",
    "            \"http://www.ratemyprofessors.com/filter/professor/?&page=\"\n",
    "            + str(i)\n",
    "            + \"&filter=teacherlastname_sort_s+asc&query=*%3A*&queryoption=TEACHER&queryBy=schoolId&sid=\"\n",
    "            + str(id)\n",
    "        )\n",
    "        json_response = json.loads(page.content)\n",
    "        temp_list = json_response[\"professors\"]\n",
    "\n",
    "        for json_professor in json_response[\"professors\"]:\n",
    "            #print(json_professor)\n",
    "            df1 = pd.DataFrame(json_professor, index=[0])\n",
    "            df = pd.concat([df,df1], ignore_index=True)\n",
    "\n",
    "            professor = Professor(\n",
    "                json_professor[\"tid\"],\n",
    "                json_professor[\"tFname\"],\n",
    "                json_professor[\"tLname\"],\n",
    "                json_professor[\"tNumRatings\"],\n",
    "                json_professor[\"overall_rating\"])\n",
    "\n",
    "            professors[professor.ratemyprof_id] = professor\n",
    "    return df"
   ]
  },
  {
   "cell_type": "code",
   "execution_count": 49,
   "metadata": {},
   "outputs": [],
   "source": [
    "byui = 1754\n",
    "byu = 135\n",
    "byuh = 136"
   ]
  },
  {
   "cell_type": "code",
   "execution_count": 50,
   "metadata": {},
   "outputs": [],
   "source": [
    "byu = scrape_prof(byu)\n",
    "byui = scrape_prof(byui)\n",
    "byuh = scrape_prof(byuh)"
   ]
  },
  {
   "cell_type": "code",
   "execution_count": 68,
   "metadata": {},
   "outputs": [],
   "source": [
    "byu.dropna(subset=['overall_rating'], inplace=True)\n",
    "byui.dropna(subset=['overall_rating'], inplace=True)\n",
    "byuh.dropna(subset=['overall_rating'], inplace=True)"
   ]
  },
  {
   "cell_type": "code",
   "execution_count": 70,
   "metadata": {},
   "outputs": [],
   "source": [
    "byu['overall_rating'] = pd.to_numeric(byu['overall_rating'])\n",
    "byui['overall_rating'] = pd.to_numeric(byui['overall_rating'])\n",
    "byuh['overall_rating'] = pd.to_numeric(byuh['overall_rating'])"
   ]
  },
  {
   "cell_type": "code",
   "execution_count": 71,
   "metadata": {},
   "outputs": [],
   "source": [
    "df = pd.concat([byu,byui,byuh],ignore_index=True)"
   ]
  },
  {
   "cell_type": "code",
   "execution_count": 72,
   "metadata": {},
   "outputs": [],
   "source": [
    "df = df.drop(['tid', 'rating_class', 'contentType', 'categoryType'], axis=1)"
   ]
  },
  {
   "cell_type": "code",
   "execution_count": 73,
   "metadata": {},
   "outputs": [
    {
     "data": {
      "text/html": [
       "<div>\n",
       "<style scoped>\n",
       "    .dataframe tbody tr th:only-of-type {\n",
       "        vertical-align: middle;\n",
       "    }\n",
       "\n",
       "    .dataframe tbody tr th {\n",
       "        vertical-align: top;\n",
       "    }\n",
       "\n",
       "    .dataframe thead th {\n",
       "        text-align: right;\n",
       "    }\n",
       "</style>\n",
       "<table border=\"1\" class=\"dataframe\">\n",
       "  <thead>\n",
       "    <tr style=\"text-align: right;\">\n",
       "      <th></th>\n",
       "      <th>tDept</th>\n",
       "      <th>tSid</th>\n",
       "      <th>institution_name</th>\n",
       "      <th>tFname</th>\n",
       "      <th>tMiddlename</th>\n",
       "      <th>tLname</th>\n",
       "      <th>tNumRatings</th>\n",
       "      <th>overall_rating</th>\n",
       "    </tr>\n",
       "  </thead>\n",
       "  <tbody>\n",
       "    <tr>\n",
       "      <th>7942</th>\n",
       "      <td>English</td>\n",
       "      <td>136</td>\n",
       "      <td>Brigham Young University - Hawaii</td>\n",
       "      <td>Mark</td>\n",
       "      <td></td>\n",
       "      <td>Wolfersberger</td>\n",
       "      <td>3</td>\n",
       "      <td>3.7</td>\n",
       "    </tr>\n",
       "    <tr>\n",
       "      <th>7943</th>\n",
       "      <td>Information Systems</td>\n",
       "      <td>136</td>\n",
       "      <td>Brigham Young University - Hawaii</td>\n",
       "      <td>Stuart</td>\n",
       "      <td></td>\n",
       "      <td>Wolthuis</td>\n",
       "      <td>4</td>\n",
       "      <td>4.7</td>\n",
       "    </tr>\n",
       "    <tr>\n",
       "      <th>7944</th>\n",
       "      <td>Mathematics</td>\n",
       "      <td>136</td>\n",
       "      <td>Brigham Young University - Hawaii</td>\n",
       "      <td>Ka</td>\n",
       "      <td>Lun</td>\n",
       "      <td>Wong</td>\n",
       "      <td>5</td>\n",
       "      <td>3.8</td>\n",
       "    </tr>\n",
       "    <tr>\n",
       "      <th>7945</th>\n",
       "      <td>Languages</td>\n",
       "      <td>136</td>\n",
       "      <td>Brigham Young University - Hawaii</td>\n",
       "      <td>Earl</td>\n",
       "      <td></td>\n",
       "      <td>Wyman</td>\n",
       "      <td>6</td>\n",
       "      <td>3.7</td>\n",
       "    </tr>\n",
       "    <tr>\n",
       "      <th>7946</th>\n",
       "      <td>Communication</td>\n",
       "      <td>136</td>\n",
       "      <td>Brigham Young University - Hawaii</td>\n",
       "      <td>Brent</td>\n",
       "      <td></td>\n",
       "      <td>Yergensen</td>\n",
       "      <td>10</td>\n",
       "      <td>3.8</td>\n",
       "    </tr>\n",
       "  </tbody>\n",
       "</table>\n",
       "</div>"
      ],
      "text/plain": [
       "                    tDept tSid                   institution_name  tFname  \\\n",
       "7942              English  136  Brigham Young University - Hawaii    Mark   \n",
       "7943  Information Systems  136  Brigham Young University - Hawaii  Stuart   \n",
       "7944          Mathematics  136  Brigham Young University - Hawaii      Ka   \n",
       "7945            Languages  136  Brigham Young University - Hawaii    Earl   \n",
       "7946        Communication  136  Brigham Young University - Hawaii   Brent   \n",
       "\n",
       "     tMiddlename         tLname  tNumRatings  overall_rating  \n",
       "7942              Wolfersberger            3             3.7  \n",
       "7943                   Wolthuis            4             4.7  \n",
       "7944         Lun           Wong            5             3.8  \n",
       "7945                      Wyman            6             3.7  \n",
       "7946                  Yergensen           10             3.8  "
      ]
     },
     "execution_count": 73,
     "metadata": {},
     "output_type": "execute_result"
    }
   ],
   "source": [
    "df.tail()"
   ]
  },
  {
   "cell_type": "code",
   "execution_count": 78,
   "metadata": {},
   "outputs": [],
   "source": [
    "with open(\"df.csv\", 'w') as f:\n",
    "    f.write(df.to_csv(index=False))\n",
    "with open(\"byu.csv\", 'w') as f:\n",
    "    f.write(byu.to_csv(index=False))\n",
    "with open(\"byui.csv\", 'w') as f:\n",
    "    f.write(byui.to_csv(index=False))\n",
    "with open(\"byuh.csv\", 'w') as f:\n",
    "    f.write(byuh.to_csv(index=False))"
   ]
  }
 ],
 "metadata": {
  "kernelspec": {
   "display_name": "Python 3.10.6 64-bit",
   "language": "python",
   "name": "python3"
  },
  "language_info": {
   "codemirror_mode": {
    "name": "ipython",
    "version": 3
   },
   "file_extension": ".py",
   "mimetype": "text/x-python",
   "name": "python",
   "nbconvert_exporter": "python",
   "pygments_lexer": "ipython3",
   "version": "3.10.6"
  },
  "orig_nbformat": 4,
  "vscode": {
   "interpreter": {
    "hash": "aee8b7b246df8f9039afb4144a1f6fd8d2ca17a180786b69acc140d282b71a49"
   }
  }
 },
 "nbformat": 4,
 "nbformat_minor": 2
}
